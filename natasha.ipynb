{
 "cells": [
  {
   "cell_type": "code",
   "execution_count": 1,
   "id": "f7404606",
   "metadata": {},
   "outputs": [
    {
     "name": "stdout",
     "output_type": "stream",
     "text": [
      "Requirement already satisfied: natasha in c:\\users\\admin\\anaconda3\\envs\\lab2\\lib\\site-packages (1.6.0)\n",
      "Requirement already satisfied: pymorphy2 in c:\\users\\admin\\anaconda3\\envs\\lab2\\lib\\site-packages (from natasha) (0.9.1)\n",
      "Requirement already satisfied: razdel>=0.5.0 in c:\\users\\admin\\anaconda3\\envs\\lab2\\lib\\site-packages (from natasha) (0.5.0)\n",
      "Requirement already satisfied: navec>=0.9.0 in c:\\users\\admin\\anaconda3\\envs\\lab2\\lib\\site-packages (from natasha) (0.10.0)\n",
      "Requirement already satisfied: slovnet>=0.6.0 in c:\\users\\admin\\anaconda3\\envs\\lab2\\lib\\site-packages (from natasha) (0.6.0)\n",
      "Requirement already satisfied: yargy>=0.16.0 in c:\\users\\admin\\anaconda3\\envs\\lab2\\lib\\site-packages (from natasha) (0.16.0)\n",
      "Requirement already satisfied: ipymarkup>=0.8.0 in c:\\users\\admin\\anaconda3\\envs\\lab2\\lib\\site-packages (from natasha) (0.9.0)\n",
      "Requirement already satisfied: intervaltree>=3 in c:\\users\\admin\\anaconda3\\envs\\lab2\\lib\\site-packages (from ipymarkup>=0.8.0->natasha) (3.1.0)\n",
      "Requirement already satisfied: numpy in c:\\users\\admin\\anaconda3\\envs\\lab2\\lib\\site-packages (from navec>=0.9.0->natasha) (1.26.1)\n",
      "Requirement already satisfied: dawg-python>=0.7.1 in c:\\users\\admin\\anaconda3\\envs\\lab2\\lib\\site-packages (from pymorphy2->natasha) (0.7.2)\n",
      "Requirement already satisfied: pymorphy2-dicts-ru<3.0,>=2.4 in c:\\users\\admin\\anaconda3\\envs\\lab2\\lib\\site-packages (from pymorphy2->natasha) (2.4.417127.4579844)\n",
      "Requirement already satisfied: docopt>=0.6 in c:\\users\\admin\\anaconda3\\envs\\lab2\\lib\\site-packages (from pymorphy2->natasha) (0.6.2)\n",
      "Requirement already satisfied: sortedcontainers<3.0,>=2.0 in c:\\users\\admin\\anaconda3\\envs\\lab2\\lib\\site-packages (from intervaltree>=3->ipymarkup>=0.8.0->natasha) (2.4.0)\n",
      "Note: you may need to restart the kernel to use updated packages.\n"
     ]
    }
   ],
   "source": [
    "pip install natasha"
   ]
  },
  {
   "cell_type": "code",
   "execution_count": 2,
   "id": "5ec9058b",
   "metadata": {},
   "outputs": [
    {
     "name": "stdout",
     "output_type": "stream",
     "text": [
      "страна Россия\n",
      "область Воронежская\n",
      "город Воронеж\n",
      "улица 9 Января\n",
      "дом 68к\n"
     ]
    }
   ],
   "source": [
    "from natasha import (\n",
    "    Segmenter,\n",
    "    MorphVocab,\n",
    "    LOC,\n",
    "    AddrExtractor    \n",
    ")\n",
    "segmenter = Segmenter()\n",
    "morph_vocab = MorphVocab()\n",
    "addr_extractor = AddrExtractor(morph_vocab)\n",
    "#Текст, содержащий адреса\n",
    "text = \"текст текст текст Россия, Воронежская область, г. Воронеж, район Ленинский, ул. 9 Января, д. 68к текст текст текст\"\n",
    "#Извлечение адреса из текста\n",
    "matches = addr_extractor(text)\n",
    "facts = [i.fact.as_json for i in matches]\n",
    "#Цикл для вывода адреса в удобной форме\n",
    "for i in range(len(facts)):\n",
    "     tmp = list(facts[i].values())\n",
    "     print(tmp[1], tmp[0])"
   ]
  },
  {
   "cell_type": "code",
   "execution_count": null,
   "id": "7a617347",
   "metadata": {},
   "outputs": [],
   "source": []
  }
 ],
 "metadata": {
  "kernelspec": {
   "display_name": "Python 3 (ipykernel)",
   "language": "python",
   "name": "python3"
  },
  "language_info": {
   "codemirror_mode": {
    "name": "ipython",
    "version": 3
   },
   "file_extension": ".py",
   "mimetype": "text/x-python",
   "name": "python",
   "nbconvert_exporter": "python",
   "pygments_lexer": "ipython3",
   "version": "3.9.18"
  }
 },
 "nbformat": 4,
 "nbformat_minor": 5
}
